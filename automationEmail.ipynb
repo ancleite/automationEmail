{
 "cells": [
  {
   "cell_type": "code",
   "execution_count": 10,
   "metadata": {},
   "outputs": [],
   "source": [
    "import pyautogui as auto\n",
    "import pyperclip\n",
    "import time\n",
    "\n",
    "#Arquive's download\n",
    "auto.PAUSE = 1\n",
    "auto.alert('Vai começar a mágica!')\n",
    "\n",
    "auto.press('win')\n",
    "auto.write('edge')\n",
    "auto.press('enter')\n",
    "link = 'https://drive.google.com/drive/folders/1rAyMH6POkbwM95C9gK9nZzQHDUwnErlj'\n",
    "pyperclip.copy(link)\n",
    "auto.hotkey('ctrl', 'v')\n",
    "auto.press('enter')\n",
    "time.sleep(3)\n",
    "\n",
    "auto.doubleClick(736, 348)\n",
    "auto.click(1029, 428)\n",
    "auto.click(1657, 194)\n",
    "auto.click(1438, 702)\n",
    "time.sleep(5)"
   ]
  },
  {
   "cell_type": "code",
   "execution_count": 11,
   "metadata": {},
   "outputs": [],
   "source": [
    "from pathlib import Path as path\n",
    "import pandas as pd\n",
    "\n",
    "#Choose the last download\n",
    "created_at = lambda f: f.stat().st_ctime\n",
    "modified_at = lambda f: f.stat().st_mtime\n",
    "\n",
    "directory = path(\"C:/Users/USER/Downloads\")\n",
    "files = directory.glob('*.xlsx')\n",
    "sorted_files = sorted(files, key=modified_at, reverse=True)\n",
    "lastDownload = sorted_files[0]\n",
    "\n",
    "#Put the indicators in variables\n",
    "archive = pd.read_excel(lastDownload)\n",
    "income = archive['Valor Final'].sum()\n",
    "products = archive['Quantidade'].sum()"
   ]
  },
  {
   "cell_type": "code",
   "execution_count": 12,
   "metadata": {},
   "outputs": [],
   "source": [
    "#Send an email with the indicators\n",
    "auto.hotkey('ctrl', 't')\n",
    "link = 'mail.google.com'\n",
    "pyperclip.copy(link)\n",
    "auto.hotkey('ctrl', 'v')\n",
    "auto.press('enter')\n",
    "time.sleep(5)\n",
    "\n",
    "auto.click(88, 218)\n",
    "contact = 'testing.program45@gmail.com'\n",
    "pyperclip.copy(contact)\n",
    "auto.hotkey('ctrl', 'v')\n",
    "auto.press('tab')\n",
    "#auto.press('tab')\n",
    "\n",
    "\n",
    "subject = 'Relatório de Vendas'\n",
    "pyperclip.copy(subject)\n",
    "auto.hotkey('ctrl', 'v')\n",
    "auto.press('tab')\n",
    "\n",
    "email = f\"\"\"\n",
    "Bom dia,\n",
    "Seguem o faturamento e a quantidade de produtos vendida de ontem:\n",
    "    -Faturamento: R${income:,.2f}\n",
    "    -Quantidade vendida: R${products:,}\n",
    "    \n",
    "Atenciosamente,\n",
    "André - Cientista de dados\"\"\"\n",
    "\n",
    "pyperclip.copy(email)\n",
    "auto.hotkey('ctrl', 'v')\n",
    "\n",
    "auto.hotkey('ctrl', 'enter')\n",
    "time.sleep(3)\n",
    "auto.hotkey('ctrl', 'w')\n",
    "auto.hotkey('ctrl', 'w')"
   ]
  },
  {
   "cell_type": "code",
   "execution_count": 13,
   "metadata": {},
   "outputs": [
    {
     "data": {
      "text/plain": [
       "'OK'"
      ]
     },
     "execution_count": 13,
     "metadata": {},
     "output_type": "execute_result"
    }
   ],
   "source": [
    "auto.alert('Tudo certo, pode mexer agora.')"
   ]
  }
 ],
 "metadata": {
  "kernelspec": {
   "display_name": "Python 3",
   "language": "python",
   "name": "python3"
  },
  "language_info": {
   "codemirror_mode": {
    "name": "ipython",
    "version": 3
   },
   "file_extension": ".py",
   "mimetype": "text/x-python",
   "name": "python",
   "nbconvert_exporter": "python",
   "pygments_lexer": "ipython3",
   "version": "3.8.5"
  }
 },
 "nbformat": 4,
 "nbformat_minor": 5
}
